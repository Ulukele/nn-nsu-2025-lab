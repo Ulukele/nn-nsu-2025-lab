{
 "cells": [
  {
   "cell_type": "code",
   "execution_count": 1,
   "id": "4cdc2c7b",
   "metadata": {},
   "outputs": [
    {
     "name": "stderr",
     "output_type": "stream",
     "text": [
      "2025-03-21 23:11:21.403149: E external/local_xla/xla/stream_executor/cuda/cuda_fft.cc:477] Unable to register cuFFT factory: Attempting to register factory for plugin cuFFT when one has already been registered\n",
      "WARNING: All log messages before absl::InitializeLog() is called are written to STDERR\n",
      "E0000 00:00:1742573481.415966   24079 cuda_dnn.cc:8310] Unable to register cuDNN factory: Attempting to register factory for plugin cuDNN when one has already been registered\n",
      "E0000 00:00:1742573481.419823   24079 cuda_blas.cc:1418] Unable to register cuBLAS factory: Attempting to register factory for plugin cuBLAS when one has already been registered\n",
      "2025-03-21 23:11:21.433537: I tensorflow/core/platform/cpu_feature_guard.cc:210] This TensorFlow binary is optimized to use available CPU instructions in performance-critical operations.\n",
      "To enable the following instructions: AVX2 FMA, in other operations, rebuild TensorFlow with the appropriate compiler flags.\n"
     ]
    }
   ],
   "source": [
    "import tensorflow as tf\n",
    "import numpy as np\n",
    "from tensorflow.keras import layers, models"
   ]
  },
  {
   "cell_type": "code",
   "execution_count": 2,
   "id": "84f7eb34",
   "metadata": {},
   "outputs": [
    {
     "name": "stdout",
     "output_type": "stream",
     "text": [
      "GPU доступен.\n"
     ]
    }
   ],
   "source": [
    "print(\"GPU доступен.\" if tf.config.list_physical_devices('GPU') else \"GPU недоступен.\")"
   ]
  },
  {
   "cell_type": "code",
   "execution_count": 3,
   "id": "abeaa3c0",
   "metadata": {},
   "outputs": [],
   "source": [
    "import os\n",
    "os.environ[\"CUDA_VISIBLE_DEVICES\"] = \"0\"\n",
    "tf.random.set_seed(\n",
    "    42\n",
    ")"
   ]
  },
  {
   "cell_type": "code",
   "execution_count": 4,
   "id": "9db3d831",
   "metadata": {},
   "outputs": [],
   "source": [
    "SIZE=512\n",
    "SHAPE=(SIZE, SIZE)"
   ]
  },
  {
   "cell_type": "code",
   "execution_count": 5,
   "id": "3ea4a2b5",
   "metadata": {},
   "outputs": [],
   "source": [
    "import json\n",
    "import cv2\n",
    "\n",
    "def get_image_pool(sources):\n",
    "    targets = []\n",
    "    for source in sources:\n",
    "        targets = targets + [os.path.join(source, f).split('.')[0] for f in os.listdir(source) if os.path.isfile(os.path.join(source, f)) and f.split('.')[-1] == 'png' ]\n",
    "    actual_shape = SHAPE\n",
    "    images = []\n",
    "    boxes = []\n",
    "    for target in targets:\n",
    "        json_fn = target + '.json'\n",
    "        image_fn = target + '.png'\n",
    "        with open(json_fn) as f:\n",
    "            image_info = json.load(f)\n",
    "        if image_info['skip']:\n",
    "            continue\n",
    "        image = cv2.cvtColor(cv2.imread(image_fn), cv2.COLOR_BGR2GRAY)\n",
    "        origin_shape = image.shape\n",
    "        adapt_scale = (actual_shape[0] / origin_shape[0], actual_shape[1] / origin_shape[1])\n",
    "        scale = image_info['scale']\n",
    "        \n",
    "        box = image_info['box']\n",
    "        y_min = (min(box[0][1], box[1][1]) / scale * adapt_scale[0]) / SIZE\n",
    "        y_max = (max(box[0][1], box[1][1]) / scale * adapt_scale[0]) / SIZE\n",
    "        x_min = (min(box[0][0], box[1][0]) / scale * adapt_scale[1]) / SIZE\n",
    "        x_max = (max(box[0][0], box[1][0]) / scale * adapt_scale[1]) / SIZE\n",
    "        \n",
    "        images.append(cv2.resize(image, SHAPE))\n",
    "        boxes.append((x_min, x_max, y_min, y_max))\n",
    "    return np.array(images), np.array(boxes)"
   ]
  },
  {
   "cell_type": "code",
   "execution_count": 6,
   "id": "faefc6cb",
   "metadata": {},
   "outputs": [
    {
     "data": {
      "text/plain": [
       "((1853, 512, 512), (512, 512))"
      ]
     },
     "execution_count": 6,
     "metadata": {},
     "output_type": "execute_result"
    }
   ],
   "source": [
    "base_img_dir = os.environ[\"BASE_IMG_DIR\"]\n",
    "\n",
    "images, boxes = get_image_pool([base_img_dir + '/vindr-spinexr-train', base_img_dir + '/vindr-spinexr-test'])\n",
    "images.shape, images[0].shape"
   ]
  },
  {
   "cell_type": "code",
   "execution_count": 7,
   "id": "c0c67c58",
   "metadata": {},
   "outputs": [],
   "source": [
    "X, y = images, boxes"
   ]
  },
  {
   "cell_type": "code",
   "execution_count": 8,
   "id": "1f2d37fb",
   "metadata": {},
   "outputs": [],
   "source": [
    "def calculate_iou(y_true, y_pred):\n",
    "    # Разделяем координаты\n",
    "    true_xmin, true_xmax, true_ymin, true_ymax = tf.split(y_true, 4, axis=-1)\n",
    "    pred_xmin, pred_xmax, pred_ymin, pred_ymax = tf.split(y_pred, 4, axis=-1)\n",
    "\n",
    "    # Вычисляем координаты пересечения\n",
    "    intersect_xmin = tf.maximum(true_xmin, pred_xmin)\n",
    "    intersect_ymin = tf.maximum(true_ymin, pred_ymin)\n",
    "    intersect_xmax = tf.minimum(true_xmax, pred_xmax)\n",
    "    intersect_ymax = tf.minimum(true_ymax, pred_ymax)\n",
    "\n",
    "    # Вычисляем площадь пересечения\n",
    "    intersect_width = tf.maximum(0.0, intersect_xmax - intersect_xmin)\n",
    "    intersect_height = tf.maximum(0.0, intersect_ymax - intersect_ymin)\n",
    "    intersect_area = intersect_width * intersect_height\n",
    "\n",
    "    # Вычисляем площади истинного и предсказанного прямоугольников\n",
    "    true_area = (true_xmax - true_xmin) * (true_ymax - true_ymin)\n",
    "    pred_area = (pred_xmax - pred_xmin) * (pred_ymax - pred_ymin)\n",
    "\n",
    "    # Вычисляем объединение\n",
    "    union_area = true_area + pred_area - intersect_area\n",
    "\n",
    "    # Вычисляем IoU\n",
    "    # (Добавляем epsilon для избежания деления на 0)\n",
    "    iou = intersect_area / (union_area + tf.keras.backend.epsilon())\n",
    "    return iou\n",
    "\n",
    "@tf.keras.utils.register_keras_serializable()\n",
    "class IoUMetric(tf.keras.metrics.Metric):\n",
    "    def __init__(self, name=\"iou\", **kwargs):\n",
    "        super(IoUMetric, self).__init__(name=name, **kwargs)\n",
    "        self.iou = self.add_weight(name=\"iou\", initializer=\"zeros\")\n",
    "        self.total_samples = self.add_weight(name=\"total_samples\", initializer=\"zeros\")\n",
    "\n",
    "    def update_state(self, y_true, y_pred, sample_weight=None):\n",
    "        iou = calculate_iou(y_true, y_pred)\n",
    "        self.iou.assign_add(tf.reduce_sum(iou))\n",
    "        self.total_samples.assign_add(tf.cast(tf.shape(y_true)[0], tf.float32))\n",
    "\n",
    "    def result(self):\n",
    "        return self.iou / self.total_samples\n",
    "\n",
    "    def reset_states(self):\n",
    "        self.iou.assign(0.0)\n",
    "        self.total_samples.assign(0.0)"
   ]
  },
  {
   "cell_type": "code",
   "execution_count": 9,
   "id": "6d3b7468",
   "metadata": {},
   "outputs": [
    {
     "name": "stderr",
     "output_type": "stream",
     "text": [
      "I0000 00:00:1742573545.353381   24079 gpu_device.cc:2022] Created device /job:localhost/replica:0/task:0/device:GPU:0 with 5468 MB memory:  -> device: 0, name: NVIDIA GeForce RTX 3060, pci bus id: 0000:2b:00.0, compute capability: 8.6\n"
     ]
    }
   ],
   "source": [
    "from tensorflow.keras.optimizers import Adam\n",
    "from tensorflow.keras.callbacks import LearningRateScheduler\n",
    "\n",
    "def create_model(input_shape):\n",
    "    model = models.Sequential([\n",
    "        layers.Input(shape=input_shape),\n",
    "        layers.Conv2D(32, (3, 3), activation='relu', padding='same'),\n",
    "        layers.MaxPooling2D((2, 2)),\n",
    "        layers.Conv2D(64, (3, 3), activation='relu', padding='same'),\n",
    "        layers.MaxPooling2D((2, 2)),\n",
    "        layers.Conv2D(128, (3, 3), activation='relu', padding='same'),\n",
    "        layers.MaxPooling2D((2, 2)),\n",
    "        layers.Flatten(),\n",
    "        layers.Dense(128, activation='relu', kernel_regularizer='l2'),\n",
    "        layers.Dense(4, activation='sigmoid')\n",
    "    ])\n",
    "    return model\n",
    "\n",
    "input_shape = (SIZE, SIZE, 1)\n",
    "custom_model = create_model(input_shape)\n",
    "metrics = [\n",
    "    'mae',\n",
    "    IoUMetric()\n",
    "]\n",
    "custom_model.compile(optimizer=Adam(learning_rate=0.001), loss='binary_crossentropy', metrics=[IoUMetric(), 'mae'])"
   ]
  },
  {
   "cell_type": "code",
   "execution_count": 10,
   "id": "10a49d34",
   "metadata": {},
   "outputs": [
    {
     "name": "stdout",
     "output_type": "stream",
     "text": [
      "Epoch 1/5\n"
     ]
    },
    {
     "name": "stderr",
     "output_type": "stream",
     "text": [
      "WARNING: All log messages before absl::InitializeLog() is called are written to STDERR\n",
      "I0000 00:00:1742573547.220128   24219 service.cc:148] XLA service 0x7fcbd000d640 initialized for platform CUDA (this does not guarantee that XLA will be used). Devices:\n",
      "I0000 00:00:1742573547.220150   24219 service.cc:156]   StreamExecutor device (0): NVIDIA GeForce RTX 3060, Compute Capability 8.6\n",
      "2025-03-21 23:12:27.241787: I tensorflow/compiler/mlir/tensorflow/utils/dump_mlir_util.cc:268] disabling MLIR crash reproducer, set env var `MLIR_CRASH_REPRODUCER_DIRECTORY` to enable.\n",
      "I0000 00:00:1742573547.360377   24219 cuda_dnn.cc:529] Loaded cuDNN version 90300\n",
      "2025-03-21 23:12:27.391998: W external/local_xla/xla/service/gpu/nvptx_compiler.cc:930] The NVIDIA driver's CUDA version is 12.4 which is older than the PTX compiler version 12.5.82. Because the driver is older than the PTX compiler version, XLA is disabling parallel compilation, which may slow down compilation. You should update your NVIDIA driver or use the NVIDIA-provided CUDA forward compatibility packages.\n"
     ]
    },
    {
     "name": "stdout",
     "output_type": "stream",
     "text": [
      "\u001b[1m  2/186\u001b[0m \u001b[37m━━━━━━━━━━━━━━━━━━━━\u001b[0m \u001b[1m14s\u001b[0m 79ms/step - iou: 0.0564 - loss: 152.4325 - mae: 0.5215  "
     ]
    },
    {
     "name": "stderr",
     "output_type": "stream",
     "text": [
      "I0000 00:00:1742573552.421808   24219 device_compiler.h:188] Compiled cluster using XLA!  This line is logged at most once for the lifetime of the process.\n"
     ]
    },
    {
     "name": "stdout",
     "output_type": "stream",
     "text": [
      "\u001b[1m186/186\u001b[0m \u001b[32m━━━━━━━━━━━━━━━━━━━━\u001b[0m\u001b[37m\u001b[0m \u001b[1m23s\u001b[0m 89ms/step - iou: 0.3799 - loss: 45.1310 - mae: 0.1452 - val_iou: 0.6140 - val_loss: 4.6203 - val_mae: 0.0536 - learning_rate: 0.0010\n",
      "Epoch 2/5\n",
      "\u001b[1m186/186\u001b[0m \u001b[32m━━━━━━━━━━━━━━━━━━━━\u001b[0m\u001b[37m\u001b[0m \u001b[1m13s\u001b[0m 69ms/step - iou: 0.5680 - loss: 4.0296 - mae: 0.0549 - val_iou: 0.6188 - val_loss: 2.7031 - val_mae: 0.0458 - learning_rate: 0.0010\n",
      "Epoch 3/5\n",
      "\u001b[1m186/186\u001b[0m \u001b[32m━━━━━━━━━━━━━━━━━━━━\u001b[0m\u001b[37m\u001b[0m \u001b[1m13s\u001b[0m 69ms/step - iou: 0.6160 - loss: 2.4371 - mae: 0.0483 - val_iou: 0.5920 - val_loss: 1.7898 - val_mae: 0.0488 - learning_rate: 0.0010\n",
      "Epoch 4/5\n",
      "\u001b[1m186/186\u001b[0m \u001b[32m━━━━━━━━━━━━━━━━━━━━\u001b[0m\u001b[37m\u001b[0m \u001b[1m13s\u001b[0m 68ms/step - iou: 0.6025 - loss: 1.6430 - mae: 0.0494 - val_iou: 0.6349 - val_loss: 1.2713 - val_mae: 0.0426 - learning_rate: 0.0010\n",
      "Epoch 5/5\n",
      "\u001b[1m186/186\u001b[0m \u001b[32m━━━━━━━━━━━━━━━━━━━━\u001b[0m\u001b[37m\u001b[0m \u001b[1m13s\u001b[0m 69ms/step - iou: 0.6323 - loss: 1.1901 - mae: 0.0447 - val_iou: 0.6574 - val_loss: 0.9799 - val_mae: 0.0388 - learning_rate: 0.0010\n"
     ]
    }
   ],
   "source": [
    "def lr_scheduler(epoch, lr):\n",
    "    if epoch < 10:\n",
    "        return lr\n",
    "    else:\n",
    "        return lr * 0.8\n",
    "history = custom_model.fit(X, y, epochs=5, batch_size=8, callbacks=[LearningRateScheduler(lr_scheduler)], validation_split=0.2)"
   ]
  },
  {
   "cell_type": "code",
   "execution_count": 11,
   "id": "e5974919",
   "metadata": {},
   "outputs": [
    {
     "data": {
      "text/plain": [
       "((1853, 512, 512, 3), (512, 512, 3), (512, 512))"
      ]
     },
     "execution_count": 11,
     "metadata": {},
     "output_type": "execute_result"
    }
   ],
   "source": [
    "from tensorflow.keras.applications import ResNet50\n",
    "from tensorflow.keras import layers, models\n",
    "\n",
    "base_model = ResNet50(weights='imagenet', include_top=False, input_shape=(512, 512, 3))\n",
    "base_model.trainable = False\n",
    "model = models.Sequential([\n",
    "    base_model,\n",
    "    layers.GlobalAveragePooling2D(),\n",
    "    layers.Dense(256, activation='relu'),\n",
    "    layers.Dropout(0.5),\n",
    "    layers.Dense(4, activation='sigmoid')\n",
    "])\n",
    "metrics = [\n",
    "    'mae',\n",
    "    IoUMetric()\n",
    "]\n",
    "model.compile(optimizer=Adam(learning_rate=0.001), loss='binary_crossentropy', metrics=metrics)\n",
    "X = np.stack((images,)*3, axis=-1)\n",
    "\n",
    "X.shape, X[0].shape, images[0].shape"
   ]
  },
  {
   "cell_type": "code",
   "execution_count": 12,
   "id": "a8880e5c",
   "metadata": {},
   "outputs": [
    {
     "name": "stderr",
     "output_type": "stream",
     "text": [
      "2025-03-21 23:13:41.903935: W external/local_xla/xla/tsl/framework/cpu_allocator_impl.cc:83] Allocation of 1165492224 exceeds 10% of free system memory.\n",
      "2025-03-21 23:13:42.867525: W external/local_xla/xla/tsl/framework/cpu_allocator_impl.cc:83] Allocation of 1165492224 exceeds 10% of free system memory.\n"
     ]
    },
    {
     "name": "stdout",
     "output_type": "stream",
     "text": [
      "Epoch 1/5\n"
     ]
    },
    {
     "name": "stderr",
     "output_type": "stream",
     "text": [
      "2025-03-21 23:13:47.358659: I external/local_xla/xla/stream_executor/cuda/cuda_asm_compiler.cc:397] ptxas warning : Registers are spilled to local memory in function 'gemm_fusion_dot_5278_0', 8 bytes spill stores, 8 bytes spill loads\n",
      "\n"
     ]
    },
    {
     "name": "stdout",
     "output_type": "stream",
     "text": [
      "\u001b[1m185/186\u001b[0m \u001b[32m━━━━━━━━━━━━━━━━━━━\u001b[0m\u001b[37m━\u001b[0m \u001b[1m0s\u001b[0m 71ms/step - iou: 0.3018 - loss: 0.6300 - mae: 0.1376"
     ]
    },
    {
     "name": "stderr",
     "output_type": "stream",
     "text": [
      "2025-03-21 23:14:05.976573: I external/local_xla/xla/stream_executor/cuda/cuda_asm_compiler.cc:397] ptxas warning : Registers are spilled to local memory in function 'gemm_fusion_dot_5278_0', 8 bytes spill stores, 8 bytes spill loads\n",
      "\n"
     ]
    },
    {
     "name": "stdout",
     "output_type": "stream",
     "text": [
      "\b\b\b\b\b\b\b\b\b\b\b\b\b\b\b\b\b\b\b\b\b\b\b\b\b\b\b\b\b\b\b\b\b\b\b\b\b\b\b\b\b\b\b\b\b\b\b\b\b\b\b\b\b\b\b\b\b\b\b\b\b\b\b\b\b\b\b\b\b\b\b\b\b\b\b\b\b\b\b\b\b\b\b\b\r",
      "\u001b[1m186/186\u001b[0m \u001b[32m━━━━━━━━━━━━━━━━━━━━\u001b[0m\u001b[37m\u001b[0m \u001b[1m0s\u001b[0m 90ms/step - iou: 0.3022 - loss: 0.6295 - mae: 0.1373"
     ]
    },
    {
     "name": "stderr",
     "output_type": "stream",
     "text": [
      "2025-03-21 23:14:15.083609: I external/local_xla/xla/stream_executor/cuda/cuda_asm_compiler.cc:397] ptxas warning : Registers are spilled to local memory in function 'gemm_fusion_dot_1692_0', 8 bytes spill stores, 8 bytes spill loads\n",
      "\n"
     ]
    },
    {
     "name": "stdout",
     "output_type": "stream",
     "text": [
      "\u001b[1m186/186\u001b[0m \u001b[32m━━━━━━━━━━━━━━━━━━━━\u001b[0m\u001b[37m\u001b[0m \u001b[1m34s\u001b[0m 136ms/step - iou: 0.3027 - loss: 0.6291 - mae: 0.1371 - val_iou: 0.6492 - val_loss: 0.4896 - val_mae: 0.0395 - learning_rate: 0.0010\n",
      "Epoch 2/5\n",
      "\u001b[1m186/186\u001b[0m \u001b[32m━━━━━━━━━━━━━━━━━━━━\u001b[0m\u001b[37m\u001b[0m \u001b[1m16s\u001b[0m 87ms/step - iou: 0.5099 - loss: 0.5040 - mae: 0.0627 - val_iou: 0.6896 - val_loss: 0.4872 - val_mae: 0.0341 - learning_rate: 0.0010\n",
      "Epoch 3/5\n",
      "\u001b[1m186/186\u001b[0m \u001b[32m━━━━━━━━━━━━━━━━━━━━\u001b[0m\u001b[37m\u001b[0m \u001b[1m16s\u001b[0m 87ms/step - iou: 0.5848 - loss: 0.4949 - mae: 0.0482 - val_iou: 0.7137 - val_loss: 0.4859 - val_mae: 0.0305 - learning_rate: 0.0010\n",
      "Epoch 4/5\n",
      "\u001b[1m186/186\u001b[0m \u001b[32m━━━━━━━━━━━━━━━━━━━━\u001b[0m\u001b[37m\u001b[0m \u001b[1m16s\u001b[0m 86ms/step - iou: 0.6142 - loss: 0.4932 - mae: 0.0438 - val_iou: 0.6619 - val_loss: 0.4868 - val_mae: 0.0354 - learning_rate: 0.0010\n",
      "Epoch 5/5\n",
      "\u001b[1m186/186\u001b[0m \u001b[32m━━━━━━━━━━━━━━━━━━━━\u001b[0m\u001b[37m\u001b[0m \u001b[1m16s\u001b[0m 85ms/step - iou: 0.6168 - loss: 0.4932 - mae: 0.0438 - val_iou: 0.6939 - val_loss: 0.4863 - val_mae: 0.0317 - learning_rate: 0.0010\n"
     ]
    }
   ],
   "source": [
    "history = model.fit(X, y, epochs=5, batch_size=8, callbacks=[LearningRateScheduler(lr_scheduler)], validation_split=0.2)"
   ]
  },
  {
   "cell_type": "code",
   "execution_count": 13,
   "id": "62642bdb",
   "metadata": {},
   "outputs": [],
   "source": [
    "import matplotlib.pyplot as plt\n",
    "def show_res(image, model_, do_color_reshape=False):\n",
    "    origin_shape = image.shape\n",
    "    image_reshaped = cv2.resize(image, SHAPE)\n",
    "    if do_color_reshape:\n",
    "        image_reshaped = np.stack((image_reshaped,)*3, axis=-1)\n",
    "    image_reshaped = np.expand_dims(image_reshaped, axis=-1)\n",
    "    image_reshaped = np.expand_dims(image_reshaped, axis=0)\n",
    "    box = model_.predict(image_reshaped)\n",
    "    box_ = box[0]\n",
    "    boxt = [0,0,0,0]\n",
    "    boxt[0] = int(box_[0] * origin_shape[1])\n",
    "    boxt[1] = int(box_[1] * origin_shape[1])\n",
    "    boxt[2] = int(box_[2] * origin_shape[0])\n",
    "    boxt[3] = int(box_[3] * origin_shape[0])\n",
    "\n",
    "    points = [(boxt[0], boxt[2]), (boxt[0], boxt[3]), (boxt[1], boxt[2]), (boxt[1], boxt[3])]\n",
    "    overlay_points = cv2.cvtColor(image, cv2.COLOR_GRAY2BGR)\n",
    "    cv2.rectangle(overlay_points, points[0], points[-1], color=(255, 0, 0), thickness=int(min(origin_shape) / 100))\n",
    "    with_box = cv2.addWeighted(overlay_points, 0.5, cv2.cvtColor(image, cv2.COLOR_GRAY2BGR), 0.5, 0)\n",
    "\n",
    "    plt.figure(figsize=(12, 6))\n",
    "    plots = 2\n",
    "    plt.subplot(1, plots, 1)\n",
    "    plt.imshow(image, cmap='gray')\n",
    "    plt.axis('off')\n",
    "    plt.subplot(1, plots, 2)\n",
    "    plt.imshow(with_box)\n",
    "    plt.axis('off')\n",
    "    plt.tight_layout()\n",
    "    return plt"
   ]
  },
  {
   "cell_type": "code",
   "execution_count": 14,
   "id": "aa11a5db",
   "metadata": {},
   "outputs": [],
   "source": [
    "test_image_name = os.environ[\"TEST_IMAGE_NAME\"]\n",
    "test_image = cv2.cvtColor(cv2.imread(base_img_dir + '/vindr-spinexr-test/' + test_image_name), cv2.COLOR_BGR2GRAY)"
   ]
  },
  {
   "cell_type": "code",
   "execution_count": 15,
   "id": "a81bb260",
   "metadata": {},
   "outputs": [],
   "source": [
    "# Скрыто для избежания попадания снимков из закрытого датасета в публичный репозиторий.\n",
    "# show_res(test_image, custom_model)"
   ]
  },
  {
   "cell_type": "code",
   "execution_count": 16,
   "id": "d87d97fc",
   "metadata": {},
   "outputs": [],
   "source": [
    "# Скрыто для избежания попадания снимков из закрытого датасета в публичный репозиторий.\n",
    "# show_res(test_image, model, True)"
   ]
  },
  {
   "cell_type": "code",
   "execution_count": null,
   "id": "8a156016",
   "metadata": {},
   "outputs": [],
   "source": []
  }
 ],
 "metadata": {
  "kernelspec": {
   "display_name": "Python (tf)",
   "language": "python",
   "name": "tf_env"
  },
  "language_info": {
   "codemirror_mode": {
    "name": "ipython",
    "version": 3
   },
   "file_extension": ".py",
   "mimetype": "text/x-python",
   "name": "python",
   "nbconvert_exporter": "python",
   "pygments_lexer": "ipython3",
   "version": "3.9.21"
  }
 },
 "nbformat": 4,
 "nbformat_minor": 5
}
